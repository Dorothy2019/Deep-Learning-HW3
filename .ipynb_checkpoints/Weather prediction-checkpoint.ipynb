{
 "cells": [
  {
   "cell_type": "markdown",
   "metadata": {},
   "source": [
    "# Weather prediction using deep neural networks"
   ]
  },
  {
   "cell_type": "markdown",
   "metadata": {},
   "source": [
    "First I need to read the CSV file, and the float number which are represented in the following format: 10,2 convert to 10.2 and also change its type from str to float."
   ]
  },
  {
   "cell_type": "code",
   "execution_count": 130,
   "metadata": {},
   "outputs": [
    {
     "name": "stdout",
     "output_type": "stream",
     "text": [
      "                     Day  Tmax  Tmin  Tmean\n",
      "0    2020-01-01 00:00:00     3   0.2    1.6\n",
      "1    2020-01-02 00:00:00   3.3  -0.5    1.4\n",
      "2    2020-01-03 00:00:00   2.4  -0.7   0.85\n",
      "3    2020-01-04 00:00:00     1   1.1   1.05\n",
      "4    2020-01-05 00:00:00   3.5  -0.7    1.4\n",
      "..                   ...   ...   ...    ...\n",
      "293  2020-10-20 00:00:00  14.8   9.6   12.2\n",
      "294  2020-10-21 00:00:00  16.6   8.9  12.75\n",
      "295  2020-10-22 00:00:00  15.7  10.3     13\n",
      "296  2020-10-23 00:00:00  16.4  10.8   13.6\n",
      "297  2020-10-24 00:00:00  17.9  12.1     15\n",
      "\n",
      "[298 rows x 4 columns]\n"
     ]
    }
   ],
   "source": [
    "import pandas as pd\n",
    "import re\n",
    "import csv\n",
    "\n",
    "weather_data = pd.read_csv(\"weather_data.csv\",sep=';')\n",
    "\n",
    "features = ['Day','Tmax','Tmin','Tmean']\n",
    "df = pd.DataFrame(weather_data, columns=features)\n",
    "\n",
    "for index, row in df.iterrows():\n",
    "    #print(f\"{index} : {float((row[1]).replace(',','.'))}\")\n",
    "    row[0] = pd.to_datetime(row[0])\n",
    "    row[1] = float((row[1]).replace(',','.'))\n",
    "    row[2] = float((row[2]).replace(',','.'))\n",
    "    row[3] = float((row[3]).replace(',','.'))\n",
    "\n",
    "print(df)"
   ]
  },
  {
   "cell_type": "markdown",
   "metadata": {},
   "source": [
    "Now I have the cleared data I will create a DNNRegressor\n",
    "I will use 80% of the data to train, 10% for test and 10% for validation"
   ]
  },
  {
   "cell_type": "code",
   "execution_count": null,
   "metadata": {},
   "outputs": [],
   "source": [
    "import numpy as np\n",
    "import tensorflow as tf\n",
    "from sklearn.metrics import explained_variance_score, mean_absolute_error, median_absolute_error\n",
    "from sklearn.model_selection import train_test_split\n",
    "\n",
    "X = df[[col for col in df.columns if col != 'Tmean']]\n",
    "y = df['Tmean']\n",
    "\n",
    "\n",
    "X_train, X_other, y_train, y_other = train_test_split(X,y, train_size=0.8, random_state=23)\n",
    "X_test, X_val, y_test, y_val = train_test_split(X_other, y_other, test_size=0.5, random_state=23)\n",
    "X_train.shape, X_test.shape, X_val.shape\n",
    "print(f\"Training instances   {X_train.shape}, Training features   {X_train.shape}\")\n",
    "print(f\"Validation instances {X_val.shape}, Validation features { X_val.shape}\")\n",
    "print(f\"Testing instances    {X_test.shape}, Testing features    {X_test.shape}\")\n",
    "\n",
    "\n",
    "\n"
   ]
  }
 ],
 "metadata": {
  "kernelspec": {
   "display_name": "Python 3",
   "language": "python",
   "name": "python3"
  },
  "language_info": {
   "codemirror_mode": {
    "name": "ipython",
    "version": 3
   },
   "file_extension": ".py",
   "mimetype": "text/x-python",
   "name": "python",
   "nbconvert_exporter": "python",
   "pygments_lexer": "ipython3",
   "version": "3.8.5"
  }
 },
 "nbformat": 4,
 "nbformat_minor": 4
}
